{
 "cells": [
  {
   "cell_type": "markdown",
   "id": "64f72fc7-c6c1-4af0-914f-a691a45872ce",
   "metadata": {},
   "source": [
    "# **Regression Trees**\n"
   ]
  },
  {
   "cell_type": "markdown",
   "id": "5ad3a421-1f47-4653-817e-e4930fd6b766",
   "metadata": {},
   "source": [
    "Estimated time needed: **30** minutes\n"
   ]
  },
  {
   "cell_type": "markdown",
   "id": "c2ecd988-dac7-45a9-bf45-01476ce18c13",
   "metadata": {},
   "source": [
    "In this exercise session you will use a real dataset to train a regression tree model. The dataset includes information about taxi tip and was collected and provided to the NYC Taxi and Limousine Commission (TLC) by technology providers authorized under the Taxicab & Livery Passenger Enhancement Programs (TPEP/LPEP). You will use the trained model to predict the amount of tip paid. \n",
    "\n"
   ]
  },
  {
   "cell_type": "markdown",
   "id": "70cf28f7-4281-478d-947b-455183ad659a",
   "metadata": {},
   "source": [
    "## Objectives\n"
   ]
  },
  {
   "cell_type": "markdown",
   "id": "6e588f4e-9899-4d2f-87c2-01397fb4eff2",
   "metadata": {},
   "source": [
    "After completing this lab you will be able to:\n"
   ]
  },
  {
   "cell_type": "markdown",
   "id": "5ffc48b5-5776-4eb9-86db-92fc9bf87d05",
   "metadata": {},
   "source": [
    "* Perform basic data preprocessing using Scikit-Learn\n",
    "* Model a regression task using Scikit-Learn\n",
    "* Train a Decision Tree Regressor model\n",
    "* Run inference and assess the quality of the trained models\n"
   ]
  },
  {
   "cell_type": "markdown",
   "id": "c6a4d9dc-9eaa-41a4-a5b2-8b9238de6044",
   "metadata": {},
   "source": [
    "<h2>Introduction</h2>\n",
    "The dataset used in this exercise session is a subset of the publicly available <a><href='https://www1.nyc.gov/site/tlc/about/tlc-trip-record-data.page'>TLC Dataset</a> (all rights reserved by Taxi & Limousine Commission (TLC), City of New York). The prediction of the tip amount can be modeled as a regression problem. To train the model you can use part of the input dataset and the remaining data can be used to assess the quality of the trained model.\n",
    "    <br>\n",
    "</div>\n"
   ]
  },
  {
   "cell_type": "markdown",
   "id": "71858252-9d86-470e-829c-9dc09528807d",
   "metadata": {},
   "source": [
    "<div id=\"import_libraries\">\n",
    "    <h2>Import Libraries</h2>\n",
    "</div>\n"
   ]
  },
  {
   "cell_type": "markdown",
   "id": "6751678b-a81f-4e67-b229-e805d50583ad",
   "metadata": {},
   "source": [
    "Make sure the libraries required are available by executing the cell below.\n"
   ]
  },
  {
   "cell_type": "code",
   "execution_count": null,
   "id": "496499c6-8422-4227-aa5e-31f913dc7678",
   "metadata": {},
   "outputs": [],
   "source": [
    "!pip install numpy\n",
    "!pip install pandas\n",
    "!pip install matplotlib\n",
    "!pip install scikit-learn"
   ]
  },
  {
   "cell_type": "markdown",
   "id": "0394a98c-85ff-48ad-b0b1-3a05ad600669",
   "metadata": {},
   "source": [
    "Import the libraries we need to use in this lab\n"
   ]
  },
  {
   "cell_type": "code",
   "execution_count": null,
   "id": "51c00769-ae74-4f72-9e41-be1b0e342f2c",
   "metadata": {},
   "outputs": [],
   "source": [
    "from __future__ import print_function\n",
    "import numpy as np\n",
    "import pandas as pd\n",
    "import matplotlib.pyplot as plt\n",
    "%matplotlib inline\n",
    "\n",
    "from sklearn.model_selection import train_test_split\n",
    "from sklearn.preprocessing import normalize\n",
    "from sklearn.metrics import mean_squared_error\n",
    "\n",
    "import warnings\n",
    "warnings.filterwarnings('ignore')"
   ]
  },
  {
   "cell_type": "markdown",
   "id": "cdd6db40-7a08-4f82-b1a2-76f340d0584d",
   "metadata": {},
   "source": [
    "<div id=\"dataset_analysis\">\n",
    "    <h2>Dataset Analysis</h2>\n",
    "</div>\n"
   ]
  },
  {
   "cell_type": "markdown",
   "id": "5f7cc1fd-0f88-4eff-804b-a25f356e34a9",
   "metadata": {},
   "source": [
    "In this section you will read the dataset in a Pandas dataframe and visualize its content. You will also look at some data statistics.\n",
    "\n",
    "Note: A Pandas dataframe is a two-dimensional, size-mutable, potentially heterogeneous tabular data structure. For more information: https://pandas.pydata.org/docs/reference/api/pandas.DataFrame.html.\n"
   ]
  },
  {
   "cell_type": "code",
   "execution_count": null,
   "id": "1e46a06b-2098-45f3-b298-a10916d6a187",
   "metadata": {},
   "outputs": [],
   "source": [
    "# read the input data\n",
    "url = 'https://cf-courses-data.s3.us.cloud-object-storage.appdomain.cloud/pu9kbeSaAtRZ7RxdJKX9_A/yellow-tripdata.csv'\n",
    "raw_data = pd.read_csv(url)\n",
    "raw_data"
   ]
  },
  {
   "cell_type": "markdown",
   "id": "380dc2ef-2ebc-4ac5-beea-550078cac00b",
   "metadata": {},
   "source": [
    "Each row in the dataset represents a taxi trip. As shown above, each row has 13 variables. One of the variables is `tip_amount` which will be the target variable. Your objective will be to train a model that uses the other variables to predict the value of the `tip_amount` variable.\n"
   ]
  },
  {
   "cell_type": "markdown",
   "id": "dbd458b6-31f1-4048-8c73-5891f28fe8a4",
   "metadata": {},
   "source": [
    "To understand the dataset a little better, let us plot the correlation of the target variable against the input variables.\n"
   ]
  },
  {
   "cell_type": "code",
   "execution_count": null,
   "id": "1ae94d9a-5af1-4797-b4d9-6aa6ee72cc72",
   "metadata": {},
   "outputs": [],
   "source": [
    "correlation_values = raw_data.corr()['tip_amount'].drop('tip_amount')\n",
    "correlation_values.plot(kind='barh', figsize=(10, 6))"
   ]
  },
  {
   "cell_type": "markdown",
   "id": "c035f283-8cef-44b0-89be-e227b343d55d",
   "metadata": {},
   "source": [
    "This shows us that the input features `payment_type`, `VendorID`, `store_and_fwd_flag` and `improvement_surcharge` have little to no correlation with the target variable.\n"
   ]
  },
  {
   "cell_type": "markdown",
   "id": "24bfe9fe-ab32-41b5-a8f9-2467354263c0",
   "metadata": {},
   "source": [
    "<div id=\"dataset_preprocessing\">\n",
    "    <h2>Dataset Preprocessing</h2>\n",
    "</div>\n"
   ]
  },
  {
   "cell_type": "markdown",
   "id": "4dea83c2-16ad-40f5-8ba7-9ca85c6a8e37",
   "metadata": {},
   "source": [
    "You will now prepare the data for training by applying normalization to the input features.\n"
   ]
  },
  {
   "cell_type": "code",
   "execution_count": null,
   "id": "e5bc6d34-00f7-496e-b211-7ee0fed702d3",
   "metadata": {},
   "outputs": [],
   "source": [
    "# extract the labels from the dataframe\n",
    "y = raw_data[['tip_amount']].values.astype('float32')\n",
    "\n",
    "# drop the target variable from the feature matrix\n",
    "proc_data = raw_data.drop(['tip_amount'], axis=1)\n",
    "\n",
    "# get the feature matrix used for training\n",
    "X = proc_data.values\n",
    "\n",
    "# normalize the feature matrix\n",
    "X = normalize(X, axis=1, norm='l1', copy=False)"
   ]
  },
  {
   "cell_type": "markdown",
   "id": "863d0413-6a79-4b11-9344-f63e1e253350",
   "metadata": {},
   "source": [
    "<div id=\"dataset_split\">\n",
    "    <h2>Dataset Train/Test Split</h2>\n",
    "</div>\n"
   ]
  },
  {
   "cell_type": "markdown",
   "id": "0c8c7d6f-e728-4eb3-8016-acf2c29f7a73",
   "metadata": {},
   "source": [
    "Now that the dataset is ready for building the classification models, you need to first divide the pre-processed dataset into a subset to be used for training the model (the train set) and a subset to be used for evaluating the quality of the model (the test set).\n"
   ]
  },
  {
   "cell_type": "code",
   "execution_count": null,
   "id": "32e2f9de-d2af-4195-a11f-718119bc34a0",
   "metadata": {},
   "outputs": [],
   "source": [
    "X_train, X_test, y_train, y_test = train_test_split(X, y, test_size=0.3, random_state=42)"
   ]
  },
  {
   "cell_type": "markdown",
   "id": "acc5a5cc-91b1-4d42-b20d-71480aa21b09",
   "metadata": {},
   "source": [
    "<div id=\"dt_sklearn\">\n",
    "    <h2>Build a Decision Tree Regressor model with Scikit-Learn</h2>\n",
    "</div>\n"
   ]
  },
  {
   "cell_type": "markdown",
   "id": "e4a69614-7afc-4c76-b7da-3140a6062f79",
   "metadata": {},
   "source": [
    "Regression Trees are implemented using `DecisionTreeRegressor`.\n",
    "\n",
    "The important parameters of the model are:\n",
    "\n",
    "`criterion`: The function used to measure error, we use 'squared_error'.\n",
    "\n",
    "`max_depth` - The maximum depth the tree is allowed to take; we use 8.\n"
   ]
  },
  {
   "cell_type": "code",
   "execution_count": null,
   "id": "626e406b-d60d-4973-afca-d96440930f09",
   "metadata": {},
   "outputs": [],
   "source": [
    "# import the Decision Tree Regression Model from scikit-learn\n",
    "from sklearn.tree import DecisionTreeRegressor\n",
    "\n",
    "# for reproducible output across multiple function calls, set random_state to a given integer value\n",
    "dt_reg = DecisionTreeRegressor(criterion = 'squared_error',\n",
    "                               max_depth=8, \n",
    "                               random_state=35)"
   ]
  },
  {
   "cell_type": "markdown",
   "id": "b5a89975-ad9e-41a5-a4a2-604920acf5b3",
   "metadata": {},
   "source": [
    "Now lets train our model using the `fit` method on the `DecisionTreeRegressor` object providing our training data\n"
   ]
  },
  {
   "cell_type": "code",
   "execution_count": null,
   "id": "7ba24e92-62bd-4c05-a4ab-a4ca2cf11b8d",
   "metadata": {},
   "outputs": [],
   "source": [
    "dt_reg.fit(X_train, y_train)"
   ]
  },
  {
   "cell_type": "markdown",
   "id": "70e5b4e5-6197-4204-9208-61d296a64b07",
   "metadata": {},
   "source": [
    "<div id=\"dt_sklearn_snapml\">\n",
    "    <h2>Evaluate the Scikit-Learn and Snap ML Decision Tree Regressor Models</h2>\n",
    "</div>\n"
   ]
  },
  {
   "cell_type": "markdown",
   "id": "ed42ddf8-fb21-47a7-bacc-e05ebabbbdf7",
   "metadata": {},
   "source": [
    "To evaluate our dataset we will use the `score` method of the `DecisionTreeRegressor` object providing our testing data, this number is the $R^2$ value which indicates the coefficient of determination. We will also evaluate the Mean Squared Error $(MSE)$ of the regression output with respect to the test set target values. High $R^2$ and low $MSE$ values are expected from a good regression model.\n"
   ]
  },
  {
   "cell_type": "code",
   "execution_count": null,
   "id": "d1784ea2-cb13-4d0d-a67a-03987b654c6d",
   "metadata": {},
   "outputs": [],
   "source": [
    "# run inference using the sklearn model\n",
    "y_pred = dt_reg.predict(X_test)\n",
    "\n",
    "# evaluate mean squared error on the test dataset\n",
    "mse_score = mean_squared_error(y_test, y_pred)\n",
    "print('MSE score : {0:.3f}'.format(mse_score))\n",
    "\n",
    "r2_score = dt_reg.score(X_test,y_test)\n",
    "print('R^2 score : {0:.3f}'.format(r2_score))"
   ]
  },
  {
   "cell_type": "markdown",
   "id": "87dc3e30-bcd1-4062-8fd4-2f44e062d7ae",
   "metadata": {},
   "source": [
    "## Practice\n"
   ]
  },
  {
   "cell_type": "markdown",
   "id": "77e289ee-4637-46a2-8dc3-0e86fc363bd3",
   "metadata": {},
   "source": [
    "Q1. What if we change the max_depth to 12? How would the $MSE$ and $R^2$ be affected? \n"
   ]
  },
  {
   "cell_type": "markdown",
   "id": "576a95a9-e803-4492-beea-d6322ada1043",
   "metadata": {},
   "source": [
    "<details><summary>Click here for the solution</summary>\n",
    "MSE is noted to be increased by increasing the max_depth of the tree. This may be because of the model having excessive parameters due to which it overfits to the training data, making the performance on the testing data poorer. Another important observation would be that the model gives a <b>negative</b> value of $R^2$. This again indicates that the prediction model created does a very poor job of predicting the values on a test set.\n",
    "</details>\n"
   ]
  },
  {
   "cell_type": "markdown",
   "id": "d6cca6f0-0329-431f-b1cf-36254a0ce799",
   "metadata": {},
   "source": [
    "Q2. Identify the top 3 features with the most effect on the `tip_amount`.\n"
   ]
  },
  {
   "cell_type": "code",
   "execution_count": null,
   "id": "298612e5-c46a-4167-9cd4-4c75cc0aabe6",
   "metadata": {},
   "outputs": [],
   "source": [
    "# your code here"
   ]
  },
  {
   "cell_type": "markdown",
   "id": "3e8f669a-ecba-4af2-bcba-8d290b9fb960",
   "metadata": {},
   "source": [
    "<details><summary>Click here for the solution</summary>\n",
    "\n",
    "```python    \n",
    "correlation_values = raw_data.corr()['tip_amount'].drop('tip_amount')\n",
    "abs(correlation_values).sort_values(ascending=False)[:3]\n",
    "\n",
    "```\n",
    "<br>\n",
    "As is evident from the output, Fare amount, toll amount and trip distance are the top features affecting the tip amount, which make logical sense.\n",
    "</details>\n"
   ]
  },
  {
   "cell_type": "markdown",
   "id": "b4c32d52-c3a4-4a1e-ba0d-9f91a2965169",
   "metadata": {},
   "source": [
    "Q3. Since we identified 4 features which are not correlated with the target variable, try removing these variables from the input set and see the effect on the $MSE$ and $R^2$ value.\n"
   ]
  },
  {
   "cell_type": "code",
   "execution_count": null,
   "id": "e20d2609-c42c-4b40-9873-ba9c7c218008",
   "metadata": {},
   "outputs": [],
   "source": [
    "# your code here"
   ]
  },
  {
   "cell_type": "markdown",
   "id": "afcaefb0-8a51-4685-be2c-e59f3baab713",
   "metadata": {},
   "source": [
    "<details><summary>Click here for the solution</summary>\n",
    "\n",
    "```python\n",
    "raw_data = raw_data.drop(['payment_type', 'VendorID', 'store_and_fwd_flag', 'improvement_surcharge'], axis=1)\n",
    "\n",
    "# Execute all the cells of the lab after modifying the raw data.\n",
    "```\n",
    "<br>\n",
    "The MSE and $R^2$ values does not change significantly, showing that there is minimal affect of these parameters on the final regression output.\n",
    "</details>\n"
   ]
  },
  {
   "cell_type": "markdown",
   "id": "cea99029-381c-49f6-b7ec-efb84293eecf",
   "metadata": {},
   "source": [
    "Q4. Check the effect of **decreasing** the `max_depth` parameter to 4 on the $MSE$ and $R^2$ values.\n"
   ]
  },
  {
   "cell_type": "markdown",
   "id": "c3e04aad-519c-4ae4-a0ae-3b2a04743567",
   "metadata": {},
   "source": [
    "<details><summary>Click here for the solution</summary>\n",
    "You will note that the MSE value decreases and $R^2$ value increases, meaning that the choice of `max_depth=4` may be more suited for this dataset.\n",
    "</details>\n"
   ]
  }
 ],
 "metadata": {
  "kernelspec": {
   "display_name": "Python 3 (ipykernel)",
   "language": "python",
   "name": "python3"
  },
  "language_info": {
   "codemirror_mode": {
    "name": "ipython",
    "version": 3
   },
   "file_extension": ".py",
   "mimetype": "text/x-python",
   "name": "python",
   "nbconvert_exporter": "python",
   "pygments_lexer": "ipython3",
   "version": "3.11.9"
  },
  "prev_pub_hash": "ab2854b257e1d527cd6fba9ac0a1dde9b9e0086bf9dfde2c193104a524fbb30e"
 },
 "nbformat": 4,
 "nbformat_minor": 4
}
