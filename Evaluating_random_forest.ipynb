{
 "cells": [
  {
   "cell_type": "markdown",
   "id": "c95b193f-1d6b-4279-a448-18cabb361a78",
   "metadata": {},
   "source": [
    "\n",
    "\n",
    "\n",
    "# Evaluating Random Forest Performance\n",
    "Estimated time needed: **30** minutes\n",
    "    \n",
    "\n",
    "## Objectives\n",
    "\n",
    "\n",
    "After completing this lab, you will be able to:\n",
    "\n",
    "* Implement and evaluate the performance of random forest regression models on real-world data\n",
    "* Interpret various evaluation metrics and visualizations\n",
    "* Describe the feature importances for a regression model\n"
   ]
  },
  {
   "cell_type": "markdown",
   "id": "92bd2464-10bd-4f6e-ac56-4b86b4fd1540",
   "metadata": {},
   "source": [
    "## Introduction\n",
    "In this lab, you will:\n",
    "- Use the California Housing data set included in scikit-learn to predict the median house price based on various attributes\n",
    "- Create a random forest regression model and evaluate its performance\n",
    "- Investigate the feature importances for the model \n",
    "\n",
    "\n",
    "Your goal in this lab is **not** to find the best regressor - it is primarily intended for you to practice interpreting modelling results in the context of a real-world problem.\n"
   ]
  },
  {
   "cell_type": "markdown",
   "id": "dc59c364-9c24-4234-9fd5-ef26f3ef4ba8",
   "metadata": {},
   "source": [
    "Before you start, make sure that all the required libraries are installed. Execute the cell below for the same.\n"
   ]
  },
  {
   "cell_type": "code",
   "execution_count": null,
   "id": "b98f97ad-88cc-4fa8-94b0-b4da5013ef7d",
   "metadata": {},
   "outputs": [],
   "source": [
    "!pip install numpy==2.2.0\n",
    "!pip install pandas==2.2.3\n",
    "!pip install scikit-learn==1.6.0\n",
    "!pip install matplotlib==3.9.3\n",
    "!pip install scipy==1.14.1"
   ]
  },
  {
   "cell_type": "markdown",
   "id": "acd26cde-b063-4e56-a7f0-1566f241ab11",
   "metadata": {},
   "source": [
    "## Import the required libraries\n"
   ]
  },
  {
   "cell_type": "code",
   "execution_count": null,
   "id": "56ee4288-ed56-4b76-947c-1c869407b23b",
   "metadata": {},
   "outputs": [],
   "source": [
    "import numpy as np\n",
    "import pandas as pd\n",
    "import matplotlib.pyplot as plt\n",
    "from sklearn.datasets import fetch_california_housing\n",
    "from sklearn.model_selection import train_test_split\n",
    "from sklearn.ensemble import RandomForestRegressor\n",
    "from sklearn.metrics import mean_squared_error, root_mean_squared_error, mean_absolute_error, r2_score\n",
    "from scipy.stats import skew"
   ]
  },
  {
   "cell_type": "markdown",
   "id": "15e5e7de-854b-4c64-8c4e-9f4c3d0a0e4d",
   "metadata": {},
   "source": [
    "### Load the California Housing data set\n"
   ]
  },
  {
   "cell_type": "code",
   "execution_count": null,
   "id": "b8c476b5-871b-4963-bd1c-f9a5aeaffcb5",
   "metadata": {},
   "outputs": [],
   "source": [
    "# Load the dataset\n",
    "data = fetch_california_housing()\n",
    "X, y = data.data, data.target"
   ]
  },
  {
   "cell_type": "markdown",
   "id": "325e9a87-cdf6-499a-9a4a-63fdff148416",
   "metadata": {},
   "source": [
    "### Print the description of the California Housing data set\n"
   ]
  },
  {
   "cell_type": "code",
   "execution_count": null,
   "id": "c004f814-2927-4fd1-ab42-092c7e018b38",
   "metadata": {},
   "outputs": [],
   "source": [
    "print(data.DESCR)"
   ]
  },
  {
   "cell_type": "markdown",
   "id": "e7b3a9a3-64ef-4ae6-a2ed-3ae3eb856193",
   "metadata": {},
   "source": [
    "### Exercise 1. Split the data into training and testing sets\n",
    "Reserve 20% of the data for evaluation\n"
   ]
  },
  {
   "cell_type": "code",
   "execution_count": null,
   "id": "b8d8d5ba-02dc-4815-8f5f-0aeeb7ce9e5e",
   "metadata": {},
   "outputs": [],
   "source": [
    "# Enter your code here\n",
    "X_train, X_test, y_train, y_test = train_test_split(..., random_state=42)"
   ]
  },
  {
   "cell_type": "markdown",
   "id": "8c64de6d-3637-417f-a1b9-d8734c7562fb",
   "metadata": {},
   "source": [
    "<details><summary>Click here for the solution</summary>\n",
    "\n",
    "```python\n",
    "# Split the dataset into training and test sets\n",
    "X_train, X_test, y_train, y_test = train_test_split(X, y, test_size=0.2, random_state=42)\n",
    "\n",
    "```\n",
    "\n",
    "</details>\n"
   ]
  },
  {
   "cell_type": "markdown",
   "id": "50e2eecf-b2d0-46dc-a2ef-3fb1ed6a7c75",
   "metadata": {},
   "source": [
    "## Explore the training data\n"
   ]
  },
  {
   "cell_type": "code",
   "execution_count": null,
   "id": "d19abd24-47e8-4948-8525-770d7a321ff8",
   "metadata": {},
   "outputs": [],
   "source": [
    "eda = pd.DataFrame(data=X_train)\n",
    "eda.columns = data.feature_names\n",
    "eda['MedHouseVal'] = y_train\n",
    "eda.describe()"
   ]
  },
  {
   "cell_type": "markdown",
   "id": "5e7ab7c1-43ae-4a2c-bd50-389fcfc5e869",
   "metadata": {},
   "source": [
    "### Exercise 2. What range are most of the median house prices valued at?\n"
   ]
  },
  {
   "cell_type": "code",
   "execution_count": null,
   "id": "cead4079-efe2-4c92-a640-064264c87fa4",
   "metadata": {},
   "outputs": [],
   "source": [
    "#### Please enter your descriptive answer here and change the cell type to \"Markdown\" for formatting.\n"
   ]
  },
  {
   "cell_type": "markdown",
   "id": "8078ccf9-d984-4b39-ad68-d101adb9f68a",
   "metadata": {},
   "source": [
    "<details><summary>Click here for the solution</summary>\n",
    "Considering the 25th to the 75th percentile range, most of the median house prices fall within \\$119,300 and \\$265,000.\n",
    "\n",
    "</details>\n"
   ]
  },
  {
   "cell_type": "markdown",
   "id": "213baa11-f826-4310-80a8-519ac73c5627",
   "metadata": {},
   "source": [
    "### How are the median house prices distributed?\n"
   ]
  },
  {
   "cell_type": "code",
   "execution_count": null,
   "id": "d5f00851-faad-4309-871a-f4dd9c5ebb7a",
   "metadata": {},
   "outputs": [],
   "source": [
    "# Plot the distribution\n",
    "plt.hist(1e5*y_train, bins=30, color='lightblue', edgecolor='black')\n",
    "plt.title(f'Median House Value Distribution\\nSkewness: {skew(y_train):.2f}')\n",
    "plt.xlabel('Median House Value')\n",
    "plt.ylabel('Frequency')"
   ]
  },
  {
   "cell_type": "markdown",
   "id": "0161b7aa-5770-449c-822f-560bda5e7e69",
   "metadata": {},
   "source": [
    "Evidently the distribution is skewed and there are quite a few clipped values at around $500,000. \n"
   ]
  },
  {
   "cell_type": "markdown",
   "id": "5f3e4dcc-b088-4a2b-a5e8-953f29bfd8a6",
   "metadata": {},
   "source": [
    "### Model fitting and prediction\n",
    "Let's fit a random forest regression model to the data and use it to make median house price predicions.\n",
    "Use the default parameters, which includes using 100 base estimators, or regression trees.\n"
   ]
  },
  {
   "cell_type": "code",
   "execution_count": null,
   "id": "25c78b89-bece-4eb8-8d30-71c858b7c810",
   "metadata": {},
   "outputs": [],
   "source": [
    "# Initialize and fit the Random Forest Regressor\n",
    "rf_regressor = RandomForestRegressor(n_estimators=100, random_state=42)\n",
    "rf_regressor.fit(X_train, y_train)\n",
    "\n",
    "# Predict on test set\n",
    "y_pred_test = rf_regressor.predict(X_test)"
   ]
  },
  {
   "cell_type": "markdown",
   "id": "34b643b2-9c0e-4541-9458-1fb048fc008e",
   "metadata": {},
   "source": [
    "### Estimate out-of-sample MAE, MSE, RMSE, and R²\n"
   ]
  },
  {
   "cell_type": "code",
   "execution_count": null,
   "id": "55af651f-041a-407a-97e7-bbce11f67e99",
   "metadata": {},
   "outputs": [],
   "source": [
    "mae = mean_absolute_error(y_test, y_pred_test)\n",
    "mse = mean_squared_error(y_test, y_pred_test)\n",
    "rmse = root_mean_squared_error(y_test, y_pred_test)\n",
    "r2 = r2_score(y_test, y_pred_test)\n",
    "print(f\"Mean Absolute Error (MAE): {mae:.4f}\")\n",
    "print(f\"Mean Squared Error (MSE): {mse:.4f}\")\n",
    "print(f\"Root Mean Squared Error (RMSE): {rmse:.4f}\")\n",
    "print(f\"R² Score: {r2:.4f}\")"
   ]
  },
  {
   "cell_type": "markdown",
   "id": "db701dff-9673-45a6-891b-c1114bf5e1cf",
   "metadata": {},
   "source": [
    "### Exercise 3. What do these statistics mean to you?\n",
    "How comfortable could you be with stopping here and communicating the results to the C-suite?\n"
   ]
  },
  {
   "cell_type": "code",
   "execution_count": null,
   "id": "07926da9-fee8-4d40-bd10-cfc554b53574",
   "metadata": {},
   "outputs": [],
   "source": [
    "#### Please enter your descriptive answer here and change the cell type to \"Markdown\" for formatting.\n"
   ]
  },
  {
   "cell_type": "markdown",
   "id": "7c26a39a-d8f3-4e0c-878d-c4877caae23f",
   "metadata": {},
   "source": [
    "<details><summary>Click here for the solution</summary>\n",
    "<p>The mean absolute error is $33,220.</p>\n",
    "\n",
    "<p>So, on average, predicted median house prices are off by \\$33k.</p>\n",
    "Mean squared error is less intuitive to interpret, but is usually what is being minimized by the model fit. \n",
    "\n",
    "On the other hand, taking the square root of MSE yields a dollar value, here RMSE = \\$50,630.\n",
    "\n",
    "An R-squared score of 0.80 is not considered very high. It means the model explains about %80 of the variance in median house prices, although this interpretation can be misleading for compex data with nonlinear relationships, skewed values, and outliers. R-squard can still be useful for comparing models though.\n",
    "\n",
    "These statistics alone don't explain any details about the performance of the model. \n",
    "For example, where did the model do well or poorly? \n",
    "\n",
    "We aren't done yet!</details>\n",
    "\n",
    "\n"
   ]
  },
  {
   "cell_type": "markdown",
   "id": "4b522d0f-d3cc-4557-92e0-13903b1e761d",
   "metadata": {},
   "source": [
    "### Plot Actual vs Predicted values\n"
   ]
  },
  {
   "cell_type": "code",
   "execution_count": null,
   "id": "d889c85a-0e08-4e1f-a8f2-f4f1ffb776ff",
   "metadata": {},
   "outputs": [],
   "source": [
    "plt.scatter(y_test, y_pred_test, alpha=0.5, color=\"blue\")\n",
    "plt.plot([y_test.min(), y_test.max()], [y_test.min(), y_test.max()], 'k--', lw=2)\n",
    "plt.xlabel(\"Actual Values\")\n",
    "plt.ylabel(\"Predicted Values\")\n",
    "plt.title(\"Random Forest Regression - Actual vs Predicted\")\n",
    "plt.show()"
   ]
  },
  {
   "cell_type": "markdown",
   "id": "09a91f75-c55f-4dde-9561-c5a55d86acc0",
   "metadata": {},
   "source": [
    "### Exercise 4. Plot the histogram of the residual errors (dollars)\n",
    "Also, print the mean and standard deviation of the residuals.\n",
    "Check for any patterns.\n"
   ]
  },
  {
   "cell_type": "code",
   "execution_count": null,
   "id": "03744906-d6e2-4a3f-83b5-7e0f7b1d7177",
   "metadata": {},
   "outputs": [],
   "source": [
    "# Enter your code here\n",
    "residuals = (y_test - ...)\n",
    "plt.hist(...)\n"
   ]
  },
  {
   "cell_type": "markdown",
   "id": "885fbe40-59be-4d0d-801b-0eacf92e0bb1",
   "metadata": {},
   "source": [
    "<details><summary>Click here for the solution</summary>\n",
    "    \n",
    "```python\n",
    "    \n",
    "# Calculate the residual errors\n",
    "residuals = 1e5*(y_test - y_pred_test)\n",
    "\n",
    "# Plot the histogram of the residuals\n",
    "plt.hist(residuals, bins=30, color='lightblue', edgecolor='black')\n",
    "plt.title(f'Median House Value Prediction Residuals')\n",
    "plt.xlabel('Median House Value Prediction Error ($)')\n",
    "plt.ylabel('Frequency')\n",
    "print('Average error = ' + str(int(np.mean(residuals))))\n",
    "print('Standard deviation of error = ' + str(int(np.std(residuals))))\n",
    "```\n"
   ]
  },
  {
   "cell_type": "markdown",
   "id": "6445d263-e45d-42f7-a5dc-e80d6c4d92e7",
   "metadata": {},
   "source": [
    "The residuals are normally distributed with a very small average error and a standard deviation of about \\$50,000.\n"
   ]
  },
  {
   "cell_type": "markdown",
   "id": "3e9369f8-54a1-4f11-8515-21b95041872e",
   "metadata": {},
   "source": [
    "### Exercise 5. Plot the model residual errors by median house value.\n",
    "Sort the residuals by actual median house value before plotting the residuals.\n",
    "\n",
    "Check for any patterns.\n"
   ]
  },
  {
   "cell_type": "code",
   "execution_count": null,
   "id": "c90f9557-a960-4c95-bcb1-11959a965779",
   "metadata": {},
   "outputs": [],
   "source": [
    "# Enter your code here\n",
    "\n",
    "# Create a DataFrame to make sorting easy\n",
    "residuals_df = ... ({\n",
    "    'Actual': 1e5*y_test,\n",
    "    'Residuals': residuals\n",
    "})\n",
    "\n",
    "# Sort the DataFrame by the actual target values\n",
    "residuals_df = residuals_df.sort_values(by='...')\n",
    "\n",
    "# Plot the residuals\n",
    "plt.scatter(residuals_df['Actual'], ... , marker='o', alpha=0.4,ec='k')\n",
    "plt.title('Median House Value Prediciton Residuals Ordered by Actual Median Prices')\n",
    "plt.xlabel('Actual Values (Sorted)')\n",
    "plt.ylabel('Residuals')\n",
    "plt.grid(True)\n",
    "plt.show()\n"
   ]
  },
  {
   "cell_type": "markdown",
   "id": "89bcdd5d-142e-4910-84b3-fe9e8bef6f28",
   "metadata": {},
   "source": [
    "<details><summary>Click here for the solution</summary>\n",
    "    \n",
    "```python\n",
    "    \n",
    "# Create a DataFrame to make sorting easy\n",
    "residuals_df = pd.DataFrame({\n",
    "    'Actual': 1e5*y_test,\n",
    "    'Residuals': residuals\n",
    "})\n",
    "\n",
    "# Sort the DataFrame by the actual target values\n",
    "residuals_df = residuals_df.sort_values(by='Actual')\n",
    "\n",
    "# Plot the residuals\n",
    "plt.scatter(residuals_df['Actual'], residuals_df['Residuals'], marker='o', alpha=0.4,ec='k')\n",
    "plt.title('Median House Value Prediciton Residuals Ordered by Actual Median Prices')\n",
    "plt.xlabel('Actual Values (Sorted)')\n",
    "plt.ylabel('Residuals')\n",
    "plt.grid(True)\n",
    "plt.show()\n",
    "```\n"
   ]
  },
  {
   "cell_type": "markdown",
   "id": "e7688127-e45b-4b1d-b653-cb524fcb0f1b",
   "metadata": {},
   "source": [
    "### Exercise 6. What trend can you infer from this residual plot?\n"
   ]
  },
  {
   "cell_type": "code",
   "execution_count": null,
   "id": "e4572dcb-3a57-4e3f-99e8-11472b25bf5b",
   "metadata": {},
   "outputs": [],
   "source": [
    "#### Please enter your descriptive answer here and change the cell type to \"Markdown\" for formatting.\n",
    "\n"
   ]
  },
  {
   "cell_type": "markdown",
   "id": "bab6d26f-4e3f-406c-aa85-b81f66358c8d",
   "metadata": {},
   "source": [
    "<details><summary>Click here for the solution</summary>\n",
    "Although we saw a small average residual of only -\\$1400, you can see from this plot that the average error as a function of median house price is actually increasing from negative to positive values.\n",
    "In other words, lower median prices tend to be overpredicted while higher median prices tend to be underpredicted.    \n",
    "</details>\n"
   ]
  },
  {
   "cell_type": "markdown",
   "id": "e3924988-2059-410a-bab3-ae6220e9e5fc",
   "metadata": {},
   "source": [
    "### Exercise 7. Display the feature importances as a bar chart.\n",
    "Do you think these feature weights have practial significance? Are any of the features possibly sharing importance with other correlated features?\n"
   ]
  },
  {
   "cell_type": "code",
   "execution_count": null,
   "id": "d8e5abf8-332f-4497-bb39-accfaf58c6d1",
   "metadata": {},
   "outputs": [],
   "source": [
    "# Enter your code here \n",
    "\n",
    "# Feature importances\n",
    "importances = rf_regressor. ...\n",
    "indices = np.argsort(importances)[::-1]\n",
    "features = data. ...\n",
    "\n",
    "# Plot feature importances\n",
    "plt.bar(range(X.shape[1]), importances[indices],  align=\"center\")\n",
    "plt.xticks(range(X.shape[1]), [features[i] for i in indices], rotation=45)\n",
    "plt.xlabel(\"Feature\")\n",
    "plt.ylabel(\"Importance\")\n",
    "plt.title(\"Feature Importances in Random Forest Regression\")\n",
    "plt.show()"
   ]
  },
  {
   "cell_type": "code",
   "execution_count": null,
   "id": "7cdebcd6-739c-454d-8c14-d50e27f88370",
   "metadata": {},
   "outputs": [],
   "source": [
    "#### Please enter your descriptive answer here and change the cell type to \"Markdown\" for formatting.\n"
   ]
  },
  {
   "cell_type": "markdown",
   "id": "55028572-246a-4bfb-9e2b-3fb387e94190",
   "metadata": {},
   "source": [
    "<details><summary>Click here for the solution, part 1</summary>\n",
    "    \n",
    "```python\n",
    "   \n",
    "# Feature importances\n",
    "importances = rf_regressor.feature_importances_\n",
    "indices = np.argsort(importances)[::-1]\n",
    "features = data.feature_names\n",
    "\n",
    "# Plot feature importances\n",
    "plt.bar(range(X.shape[1]), importances[indices],  align=\"center\")\n",
    "plt.xticks(range(X.shape[1]), [features[i] for i in indices], rotation=45)\n",
    "plt.xlabel(\"Feature\")\n",
    "plt.ylabel(\"Importance\")\n",
    "plt.title(\"Feature Importances in Random Forest Regression\")\n",
    "plt.show()\n",
    "```\n"
   ]
  },
  {
   "cell_type": "markdown",
   "id": "196d5cc9-c660-4b20-99c9-3e31f1f9600d",
   "metadata": {},
   "source": [
    "<details><summary>Click here for the solution, part 2</summary>\n",
    "It makes sense that median incomes and house prices would be correlated, so it's not surprising that median income is the most important feature.\n",
    "\n",
    "I would think that location must be a significant factor.\n",
    "\n",
    "Since location is implied by two separate variables, latitude and longitude that share equal importances, we might speculate that location is really the second most important feature.\n",
    "This is because replacing latitude and longitude with a categorical location at an appropriate level of granularity (suburb, city, etc.) would likely have a combined lat/lng importance, which might outweigh average occupancy.\n",
    "\n",
    "Might average occupancy and average number of bedrooms be correlated?\n",
    "\n",
    "A proper analysis of the feature set would include a correlation matrix.\n",
    "</details>\n"
   ]
  },
  {
   "cell_type": "markdown",
   "id": "799869a1-215d-4f27-b4bd-7c5b8fd16ef4",
   "metadata": {},
   "source": [
    "### Exercise 8. Some final thoughts to consider\n",
    "\n",
    "- Will the skewness affect the performance of Random Forest regression?\n",
    "- Does the clipping of median house prices above \\$500,000 bias the predictions?\n",
    "- Also, do we need to standardize the data?\n"
   ]
  },
  {
   "cell_type": "code",
   "execution_count": null,
   "id": "fb9bdf2b-aded-4e56-ae21-3d405633f073",
   "metadata": {},
   "outputs": [],
   "source": [
    "#### Please enter your descriptive answer here and change the cell type to \"Markdown\" for formatting.\n",
    "\n"
   ]
  },
  {
   "cell_type": "markdown",
   "id": "3383ade7-3e3b-44ad-a63b-c837839bc32f",
   "metadata": {},
   "source": [
    "<details><summary>Click here for the solution</summary>\n",
    "Compared to linear regression, random forest regression is quite robust against outliers and skewed distributions.\n",
    "This is because random forest regression doesn't make any assumptions about the data distribution, where linear regression performs best with normally distributed data.\n",
    "\n",
    "Standardizing the data isn't necessary like it is for distance-based algortihms like KNN or SVMs.\n",
    "\n",
    "Regarding the clipped vlaues, there is no variablilty in those values. Removing them in preprocessing might help the model to better explain the actual variance in the data. \n",
    "\n",
    "The clipped values can alsos bias the predictions.\n",
    "Also these clipped values can mislead evaluation metrics. As you've learned from this lab, it's crucially important for you to visualize your results.\n",
    "</details>\n"
   ]
  }
 ],
 "metadata": {
  "kernelspec": {
   "display_name": "Python 3 (ipykernel)",
   "language": "python",
   "name": "python3"
  },
  "language_info": {
   "codemirror_mode": {
    "name": "ipython",
    "version": 3
   },
   "file_extension": ".py",
   "mimetype": "text/x-python",
   "name": "python",
   "nbconvert_exporter": "python",
   "pygments_lexer": "ipython3",
   "version": "3.12.8"
  },
  "prev_pub_hash": "bdc95fd5316dd4a1810fba80c60419533aa01a1c10b788a032e41322f92bc37a"
 },
 "nbformat": 4,
 "nbformat_minor": 4
}
